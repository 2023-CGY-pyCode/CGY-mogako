{
 "cells": [
  {
   "cell_type": "code",
   "execution_count": 1,
   "metadata": {},
   "outputs": [
    {
     "name": "stdout",
     "output_type": "stream",
     "text": [
      "[(300, 200), (5, 10), (100, 200)]\n",
      "[(100, 200), (300, 200), (5, 10)]\n",
      "[(5, 10), (100, 200), (300, 200)]\n",
      "[(300, 200), (5, 10), (100, 200)]\n",
      "[(100, 200), (300, 200), (5, 10)]\n"
     ]
    }
   ],
   "source": [
    "arr = [(5, 10), (100, 200), (300, 200)]\n",
    "\n",
    "\n",
    "for _ in range(5):\n",
    "    a, b = arr.pop(-1)\n",
    "    arr.insert(0, (a,b))    \n",
    "    print(arr)"
   ]
  },
  {
   "cell_type": "code",
   "execution_count": null,
   "metadata": {},
   "outputs": [],
   "source": [
    "state = 20\n",
    "player_money = 20\n",
    "W = 5\n",
    "n= 5\n",
    "\n",
    "if state >= 4*n - 4:  # 독립적 # 액션을 한 후에 도착 or 지나갔다면  시작 칸 : 이 칸에 정확히 멈추거나 지나가게 되면, 월급을 받게 된다.\n",
    "    state = state % (4*n - 4)\n",
    "    player_money += W # 월급 추가\n",
    "    \n",
    "elif state == 0:  # 시작칸\n",
    "    player_money += W\n",
    "    \n",
    "print(player_money)"
   ]
  }
 ],
 "metadata": {
  "kernelspec": {
   "display_name": "DL",
   "language": "python",
   "name": "python3"
  },
  "language_info": {
   "codemirror_mode": {
    "name": "ipython",
    "version": 3
   },
   "file_extension": ".py",
   "mimetype": "text/x-python",
   "name": "python",
   "nbconvert_exporter": "python",
   "pygments_lexer": "ipython3",
   "version": "3.9.16"
  },
  "orig_nbformat": 4
 },
 "nbformat": 4,
 "nbformat_minor": 2
}
